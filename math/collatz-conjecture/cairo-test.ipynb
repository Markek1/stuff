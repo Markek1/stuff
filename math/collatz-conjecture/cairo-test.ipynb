{
 "cells": [
  {
   "cell_type": "code",
   "execution_count": 1,
   "source": [
    "import cairo\r\n",
    "from IPython.display import Image, display\r\n",
    "from math import pi\r\n",
    "from io import BytesIO\r\n",
    "\r\n",
    "def disp(draw_func):\r\n",
    "    surface = cairo.ImageSurface(cairo.FORMAT_ARGB32, 200, 200)\r\n",
    "    ctx = cairo.Context(surface)\r\n",
    "    draw_func(ctx, 200, 200)\r\n",
    "    with BytesIO() as fileobj:\r\n",
    "        surface.write_to_png(fileobj)\r\n",
    "        display(Image(fileobj.getvalue(), width=200))"
   ],
   "outputs": [],
   "metadata": {}
  },
  {
   "cell_type": "code",
   "execution_count": 4,
   "source": [
    "@disp\r\n",
    "def draw(cr, width, height):\r\n",
    "    cr.scale(width, height)\r\n",
    "    cr.set_line_width(0.04)\r\n",
    "\r\n",
    "    # a custom shape, that could be wrapped in a function\r\n",
    "    x0 = 0.1  # parameters like cairo_rectangle\r\n",
    "    y0 = 0.1\r\n",
    "    rect_width = 0.8\r\n",
    "    rect_height = 0.8\r\n",
    "    radius = 0.4  # and an approximate curvature radius\r\n",
    "\r\n",
    "    x1 = x0 + rect_width\r\n",
    "    y1 = y0 + rect_height\r\n",
    "\r\n",
    "    if rect_width / 2 < radius:\r\n",
    "        if rect_height / 2 < radius:\r\n",
    "            cr.move_to(x0, (y0 + y1) / 2)\r\n",
    "            cr.curve_to(x0, y0, x0, y0, (x0 + x1) / 2, y0)\r\n",
    "            cr.curve_to(x1, y0, x1, y0, x1, (y0 + y1) / 2)\r\n",
    "            cr.curve_to(x1, y1, x1, y1, (x1 + x0) / 2, y1)\r\n",
    "            cr.curve_to(x0, y1, x0, y1, x0, (y0 + y1) / 2)\r\n",
    "        else:\r\n",
    "            cr.move_to(x0, y0 + radius)\r\n",
    "            cr.curve_to(x0, y0, x0, y0, (x0 + x1) / 2, y0)\r\n",
    "            cr.curve_to(x1, y0, x1, y0, x1, y0 + radius)\r\n",
    "            cr.line_to(x1, y1 - radius)\r\n",
    "            cr.curve_to(x1, y1, x1, y1, (x1 + x0) / 2, y1)\r\n",
    "            cr.curve_to(x0, y1, x0, y1, x0, y1 - radius)\r\n",
    "    else:\r\n",
    "        if rect_height / 2 < radius:\r\n",
    "            cr.move_to(x0, (y0 + y1) / 2)\r\n",
    "            cr.curve_to(x0, y0, x0, y0, x0 + radius, y0)\r\n",
    "            cr.line_to(x1 - radius, y0)\r\n",
    "            cr.curve_to(x1, y0, x1, y0, x1, (y0 + y1) / 2)\r\n",
    "            cr.curve_to(x1, y1, x1, y1, x1 - radius, y1)\r\n",
    "            cr.line_to(x0 + radius, y1)\r\n",
    "            cr.curve_to(x0, y1, x0, y1, x0, (y0 + y1) / 2)\r\n",
    "        else:\r\n",
    "            cr.move_to(x0, y0 + radius)\r\n",
    "            cr.curve_to(x0, y0, x0, y0, x0 + radius, y0)\r\n",
    "            cr.line_to(x1 - radius, y0)\r\n",
    "            cr.curve_to(x1, y0, x1, y0, x1, y0 + radius)\r\n",
    "            cr.line_to(x1, y1 - radius)\r\n",
    "            cr.curve_to(x1, y1, x1, y1, x1 - radius, y1)\r\n",
    "            cr.line_to(x0 + radius, y1)\r\n",
    "            cr.curve_to(x0, y1, x0, y1, x0, y1 - radius)\r\n",
    "\r\n",
    "    cr.close_path()\r\n",
    "\r\n",
    "    cr.set_source_rgb(0.5, 0.5, 1)\r\n",
    "    cr.fill_preserve()\r\n",
    "    cr.set_source_rgba(0.5, 0, 0, 0.5)\r\n",
    "    cr.stroke()"
   ],
   "outputs": [
    {
     "output_type": "display_data",
     "data": {
      "text/plain": [
       "<IPython.core.display.Image object>"
      ],
      "image/png": "[encoded data removed]"
     },
     "metadata": {
      "image/png": {
       "width": 200
      }
     }
    }
   ],
   "metadata": {}
  },
  {
   "cell_type": "code",
   "execution_count": null,
   "source": [],
   "outputs": [],
   "metadata": {}
  },
  {
   "cell_type": "code",
   "execution_count": null,
   "source": [],
   "outputs": [],
   "metadata": {}
  }
 ],
 "metadata": {
  "orig_nbformat": 4,
  "language_info": {
   "name": "python",
   "version": "3.9.5",
   "mimetype": "text/x-python",
   "codemirror_mode": {
    "name": "ipython",
    "version": 3
   },
   "pygments_lexer": "ipython3",
   "nbconvert_exporter": "python",
   "file_extension": ".py"
  },
  "kernelspec": {
   "name": "python3",
   "display_name": "Python 3.9.5 64-bit"
  },
  "interpreter": {
   "hash": "389b5251fb29fbdcf5e0d96379d6e9627926ce1fa66bc7f8e4c4eab5a732ef9b"
  }
 },
 "nbformat": 4,
 "nbformat_minor": 2
}